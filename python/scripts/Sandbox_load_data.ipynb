{
 "cells": [
  {
   "cell_type": "code",
   "execution_count": 1,
   "metadata": {
    "collapsed": false
   },
   "outputs": [],
   "source": [
    "%load_ext autoreload\n",
    "%autoreload 2\n"
   ]
  },
  {
   "cell_type": "code",
   "execution_count": 2,
   "metadata": {
    "collapsed": false
   },
   "outputs": [
    {
     "name": "stdout",
     "output_type": "stream",
     "text": [
      "ACS cleaner loaded\n"
     ]
    }
   ],
   "source": [
    "import sys\n",
    "sys.path.append(\"../\")\n",
    "import housinginsights\n",
    "from housinginsights.ingestion import ManifestReader, DataReader\n",
    "from housinginsights.ingestion import ACSRentCleaner, GenericCleaner\n",
    "from housinginsights.ingestion import load_meta_data\n",
    "import json\n"
   ]
  },
  {
   "cell_type": "code",
   "execution_count": null,
   "metadata": {
    "collapsed": true
   },
   "outputs": [],
   "source": []
  },
  {
   "cell_type": "code",
   "execution_count": 3,
   "metadata": {
    "collapsed": false
   },
   "outputs": [],
   "source": [
    "meta = load_meta_data('meta_sample.json')\n",
    "manifest = ManifestReader('manifest_sample.csv')"
   ]
  },
  {
   "cell_type": "code",
   "execution_count": 4,
   "metadata": {
    "collapsed": false
   },
   "outputs": [],
   "source": [
    "from housinginsights.ingestion import CSVWriter\n",
    "\n",
    "from housinginsights.tools import dbtools\n",
    "from housinginsights.ingestion import DataSql\n",
    "\n",
    "\n",
    "#temporary, to test pandas implementation version\n",
    "from sqlalchemy import create_engine\n",
    "db_string = dbtools.get_connect_str(\"local_database\")\n",
    "engine = create_engine(db_string)\n",
    "\n",
    "#temporary, cursor instead\n",
    "#cursor = dbtools.get_psycopg2_cursor(\"local_database\")\n",
    "\n",
    "#actual, use connection\n",
    "db_conn = dbtools.get_database_connection(\"local_database\")\n",
    "dbapi_conn = db_conn.connection\n",
    "cursor = dbapi_conn.cursor()\n"
   ]
  },
  {
   "cell_type": "code",
   "execution_count": 5,
   "metadata": {
    "collapsed": false
   },
   "outputs": [
    {
     "name": "stdout",
     "output_type": "stream",
     "text": [
      "ready to append\n",
      "tried to commit changes\n",
      "<sqlalchemy.engine.base.Connection object at 0x0000020B2676E080>\n"
     ]
    }
   ],
   "source": [
    "\n",
    "for manifest_row in manifest:\n",
    "    if manifest_row['include_flag'] == 'use': #temp - see load_data for better version\n",
    "        csv_reader = DataReader(manifest_row=manifest_row)\n",
    "        csv_writer = CSVWriter(meta = meta, manifest_row = manifest_row)\n",
    "\n",
    "        sql_writer = DataSql(meta, manifest_row, db_conn)\n",
    "\n",
    "        #Assign an appropriate testing cleaner\n",
    "        if manifest_row['destination_table'] == \"acs_rent_median_temp\":\n",
    "            cleaner = ACSRentCleaner(meta, manifest_row)\n",
    "        else:\n",
    "            cleaner = GenericCleaner(meta,manifest_row)\n",
    "\n",
    "        for idx, data_row in enumerate(csv_reader):\n",
    "            clean_data_row = cleaner.clean(data_row, idx)\n",
    "            if clean_data_row != None:\n",
    "                csv_writer.write(clean_data_row)\n",
    "            \n",
    "        csv_writer.close()\n",
    "        sql_writer.create_table()\n",
    "        sql_writer.read_and_write_to_sql()\n",
    "    \n",
    "db_conn.close()\n",
    "print(db_conn)"
   ]
  },
  {
   "cell_type": "code",
   "execution_count": 6,
   "metadata": {
    "collapsed": false
   },
   "outputs": [
    {
     "name": "stdout",
     "output_type": "stream",
     "text": [
      "('1400000US11001000100', '11001000100', 'Census Tract 1, District of Columbia, District of Columbia', 1980, '375')\n",
      "('1400000US11001000201', '11001000201', 'Census Tract 2.01, District of Columbia, District of Columbia', 0, '**')\n",
      "('1400000US11001001500', '11001001500', 'Census Tract 15, District of Columbia, District of Columbia', 3500, '***')\n",
      "('1400000US11001002701', '11001002701', 'Census Tract 27.01, District of Columbia, District of Columbia', 1270, '111')\n",
      "('1400000US11001004902', '11001004902', 'Census Tract 49.02, District of Columbia, District of Columbia', 1386, '491')\n",
      "('1400000US11001007504', '11001007504', 'Census Tract 75.04, District of Columbia, District of Columbia', 778, '56')\n"
     ]
    }
   ],
   "source": [
    "db_conn = dbtools.get_database_connection(\"local_database\")\n",
    "result = db_conn.execute(\"SELECT * FROM acs_rent_median_temp\")\n",
    "\n",
    "for r in result:\n",
    "    print(r)\n"
   ]
  },
  {
   "cell_type": "code",
   "execution_count": null,
   "metadata": {
    "collapsed": true
   },
   "outputs": [],
   "source": [
    "\n"
   ]
  },
  {
   "cell_type": "code",
   "execution_count": null,
   "metadata": {
    "collapsed": true
   },
   "outputs": [],
   "source": []
  },
  {
   "cell_type": "code",
   "execution_count": null,
   "metadata": {
    "collapsed": true
   },
   "outputs": [],
   "source": []
  }
 ],
 "metadata": {
  "anaconda-cloud": {},
  "kernelspec": {
   "display_name": "Python [default]",
   "language": "python",
   "name": "python3"
  },
  "language_info": {
   "codemirror_mode": {
    "name": "ipython",
    "version": 3
   },
   "file_extension": ".py",
   "mimetype": "text/x-python",
   "name": "python",
   "nbconvert_exporter": "python",
   "pygments_lexer": "ipython3",
   "version": "3.5.2"
  }
 },
 "nbformat": 4,
 "nbformat_minor": 1
}
